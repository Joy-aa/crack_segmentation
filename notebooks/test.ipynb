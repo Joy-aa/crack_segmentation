{
 "cells": [
  {
   "cell_type": "code",
   "execution_count": 30,
   "metadata": {},
   "outputs": [],
   "source": [
    "import cv2 as cv\n",
    "import numpy as np\n",
    "import os\n",
    "import torch\n",
    "from pathlib import Path\n",
    "import sys\n",
    "sys.path.append('../unet')\n",
    "from data_loader import ImgDataSet\n",
    "import torchvision.transforms as transforms\n",
    "import torch.nn.functional as F\n",
    "from torch.utils.data import DataLoader, random_split\n",
    "from torch.autograd import Variable\n",
    "from build_unet import load_unet_vgg16\n",
    "from inference import evaluate_img"
   ]
  },
  {
   "cell_type": "code",
   "execution_count": 17,
   "metadata": {},
   "outputs": [],
   "source": [
    "data_dir = '/home/wj/dataset/seg_dataset'\n",
    "DIR_IMG  = os.path.join(data_dir, 'images')\n",
    "DIR_MASK = os.path.join(data_dir, 'masks')\n",
    "img_names  = [path.name for path in Path(DIR_IMG).glob('*.jpg')]\n",
    "mask_names = [path.name for path in Path(DIR_MASK).glob('*.jpg')]\n",
    "\n",
    "\n",
    "channel_means = [0.485, 0.456, 0.406]\n",
    "channel_stds  = [0.229, 0.224, 0.225]\n",
    "train_tfms = transforms.Compose([transforms.ToTensor(),\n",
    "                                     transforms.Normalize(channel_means, channel_stds)])\n",
    "\n",
    "val_tfms = transforms.Compose([transforms.ToTensor(),\n",
    "                                   transforms.Normalize(channel_means, channel_stds)])\n",
    "\n",
    "mask_tfms = transforms.Compose([transforms.ToTensor()])\n",
    "\n",
    "dataset = ImgDataSet(img_dir=DIR_IMG, img_fnames=img_names, img_transform=train_tfms, mask_dir=DIR_MASK, mask_fnames=mask_names, mask_transform=mask_tfms)\n",
    "train_size = int(0.01*len(dataset))\n",
    "# train_dataset = RandomSampler(dataset, False, train_size)\n",
    "valid_size = len(dataset) - train_size\n",
    "train_dataset, valid_dataset = random_split(dataset, [train_size, valid_size])\n",
    "\n",
    "train_loader = DataLoader(train_dataset, 4, shuffle=False, pin_memory=torch.cuda.is_available(), num_workers=4)\n",
    "# valid_loader = DataLoader(valid_dataset, args.batch_size, shuffle=False, pin_memory=torch.cuda.is_available(), num_workers=args.num_workers)"
   ]
  },
  {
   "cell_type": "code",
   "execution_count": 12,
   "metadata": {},
   "outputs": [],
   "source": [
    "model = load_unet_vgg16('../models/model_unet_vgg_16_best.pt')"
   ]
  },
  {
   "cell_type": "code",
   "execution_count": 26,
   "metadata": {},
   "outputs": [
    {
     "data": {
      "text/plain": [
       "UNet16(\n",
       "  (pool): MaxPool2d(kernel_size=2, stride=2, padding=0, dilation=1, ceil_mode=False)\n",
       "  (encoder): Sequential(\n",
       "    (0): Conv2d(3, 64, kernel_size=(3, 3), stride=(1, 1), padding=(1, 1))\n",
       "    (1): ReLU(inplace=True)\n",
       "    (2): Conv2d(64, 64, kernel_size=(3, 3), stride=(1, 1), padding=(1, 1))\n",
       "    (3): ReLU(inplace=True)\n",
       "    (4): MaxPool2d(kernel_size=2, stride=2, padding=0, dilation=1, ceil_mode=False)\n",
       "    (5): Conv2d(64, 128, kernel_size=(3, 3), stride=(1, 1), padding=(1, 1))\n",
       "    (6): ReLU(inplace=True)\n",
       "    (7): Conv2d(128, 128, kernel_size=(3, 3), stride=(1, 1), padding=(1, 1))\n",
       "    (8): ReLU(inplace=True)\n",
       "    (9): MaxPool2d(kernel_size=2, stride=2, padding=0, dilation=1, ceil_mode=False)\n",
       "    (10): Conv2d(128, 256, kernel_size=(3, 3), stride=(1, 1), padding=(1, 1))\n",
       "    (11): ReLU(inplace=True)\n",
       "    (12): Conv2d(256, 256, kernel_size=(3, 3), stride=(1, 1), padding=(1, 1))\n",
       "    (13): ReLU(inplace=True)\n",
       "    (14): Conv2d(256, 256, kernel_size=(3, 3), stride=(1, 1), padding=(1, 1))\n",
       "    (15): ReLU(inplace=True)\n",
       "    (16): MaxPool2d(kernel_size=2, stride=2, padding=0, dilation=1, ceil_mode=False)\n",
       "    (17): Conv2d(256, 512, kernel_size=(3, 3), stride=(1, 1), padding=(1, 1))\n",
       "    (18): ReLU(inplace=True)\n",
       "    (19): Conv2d(512, 512, kernel_size=(3, 3), stride=(1, 1), padding=(1, 1))\n",
       "    (20): ReLU(inplace=True)\n",
       "    (21): Conv2d(512, 512, kernel_size=(3, 3), stride=(1, 1), padding=(1, 1))\n",
       "    (22): ReLU(inplace=True)\n",
       "    (23): MaxPool2d(kernel_size=2, stride=2, padding=0, dilation=1, ceil_mode=False)\n",
       "    (24): Conv2d(512, 512, kernel_size=(3, 3), stride=(1, 1), padding=(1, 1))\n",
       "    (25): ReLU(inplace=True)\n",
       "    (26): Conv2d(512, 512, kernel_size=(3, 3), stride=(1, 1), padding=(1, 1))\n",
       "    (27): ReLU(inplace=True)\n",
       "    (28): Conv2d(512, 512, kernel_size=(3, 3), stride=(1, 1), padding=(1, 1))\n",
       "    (29): ReLU(inplace=True)\n",
       "    (30): MaxPool2d(kernel_size=2, stride=2, padding=0, dilation=1, ceil_mode=False)\n",
       "  )\n",
       "  (relu): ReLU(inplace=True)\n",
       "  (conv1): Sequential(\n",
       "    (0): Conv2d(3, 64, kernel_size=(3, 3), stride=(1, 1), padding=(1, 1))\n",
       "    (1): ReLU(inplace=True)\n",
       "    (2): Conv2d(64, 64, kernel_size=(3, 3), stride=(1, 1), padding=(1, 1))\n",
       "    (3): ReLU(inplace=True)\n",
       "  )\n",
       "  (conv2): Sequential(\n",
       "    (0): Conv2d(64, 128, kernel_size=(3, 3), stride=(1, 1), padding=(1, 1))\n",
       "    (1): ReLU(inplace=True)\n",
       "    (2): Conv2d(128, 128, kernel_size=(3, 3), stride=(1, 1), padding=(1, 1))\n",
       "    (3): ReLU(inplace=True)\n",
       "  )\n",
       "  (conv3): Sequential(\n",
       "    (0): Conv2d(128, 256, kernel_size=(3, 3), stride=(1, 1), padding=(1, 1))\n",
       "    (1): ReLU(inplace=True)\n",
       "    (2): Conv2d(256, 256, kernel_size=(3, 3), stride=(1, 1), padding=(1, 1))\n",
       "    (3): ReLU(inplace=True)\n",
       "    (4): Conv2d(256, 256, kernel_size=(3, 3), stride=(1, 1), padding=(1, 1))\n",
       "    (5): ReLU(inplace=True)\n",
       "  )\n",
       "  (conv4): Sequential(\n",
       "    (0): Conv2d(256, 512, kernel_size=(3, 3), stride=(1, 1), padding=(1, 1))\n",
       "    (1): ReLU(inplace=True)\n",
       "    (2): Conv2d(512, 512, kernel_size=(3, 3), stride=(1, 1), padding=(1, 1))\n",
       "    (3): ReLU(inplace=True)\n",
       "    (4): Conv2d(512, 512, kernel_size=(3, 3), stride=(1, 1), padding=(1, 1))\n",
       "    (5): ReLU(inplace=True)\n",
       "  )\n",
       "  (conv5): Sequential(\n",
       "    (0): Conv2d(512, 512, kernel_size=(3, 3), stride=(1, 1), padding=(1, 1))\n",
       "    (1): ReLU(inplace=True)\n",
       "    (2): Conv2d(512, 512, kernel_size=(3, 3), stride=(1, 1), padding=(1, 1))\n",
       "    (3): ReLU(inplace=True)\n",
       "    (4): Conv2d(512, 512, kernel_size=(3, 3), stride=(1, 1), padding=(1, 1))\n",
       "    (5): ReLU(inplace=True)\n",
       "  )\n",
       "  (center): DecoderBlockV2(\n",
       "    (block): Sequential(\n",
       "      (0): Interpolate()\n",
       "      (1): ConvRelu(\n",
       "        (conv): Conv2d(512, 512, kernel_size=(3, 3), stride=(1, 1), padding=(1, 1))\n",
       "        (activation): ReLU(inplace=True)\n",
       "      )\n",
       "      (2): ConvRelu(\n",
       "        (conv): Conv2d(512, 256, kernel_size=(3, 3), stride=(1, 1), padding=(1, 1))\n",
       "        (activation): ReLU(inplace=True)\n",
       "      )\n",
       "    )\n",
       "  )\n",
       "  (dec5): DecoderBlockV2(\n",
       "    (block): Sequential(\n",
       "      (0): Interpolate()\n",
       "      (1): ConvRelu(\n",
       "        (conv): Conv2d(768, 512, kernel_size=(3, 3), stride=(1, 1), padding=(1, 1))\n",
       "        (activation): ReLU(inplace=True)\n",
       "      )\n",
       "      (2): ConvRelu(\n",
       "        (conv): Conv2d(512, 256, kernel_size=(3, 3), stride=(1, 1), padding=(1, 1))\n",
       "        (activation): ReLU(inplace=True)\n",
       "      )\n",
       "    )\n",
       "  )\n",
       "  (dec4): DecoderBlockV2(\n",
       "    (block): Sequential(\n",
       "      (0): Interpolate()\n",
       "      (1): ConvRelu(\n",
       "        (conv): Conv2d(768, 512, kernel_size=(3, 3), stride=(1, 1), padding=(1, 1))\n",
       "        (activation): ReLU(inplace=True)\n",
       "      )\n",
       "      (2): ConvRelu(\n",
       "        (conv): Conv2d(512, 256, kernel_size=(3, 3), stride=(1, 1), padding=(1, 1))\n",
       "        (activation): ReLU(inplace=True)\n",
       "      )\n",
       "    )\n",
       "  )\n",
       "  (dec3): DecoderBlockV2(\n",
       "    (block): Sequential(\n",
       "      (0): Interpolate()\n",
       "      (1): ConvRelu(\n",
       "        (conv): Conv2d(512, 256, kernel_size=(3, 3), stride=(1, 1), padding=(1, 1))\n",
       "        (activation): ReLU(inplace=True)\n",
       "      )\n",
       "      (2): ConvRelu(\n",
       "        (conv): Conv2d(256, 64, kernel_size=(3, 3), stride=(1, 1), padding=(1, 1))\n",
       "        (activation): ReLU(inplace=True)\n",
       "      )\n",
       "    )\n",
       "  )\n",
       "  (dec2): DecoderBlockV2(\n",
       "    (block): Sequential(\n",
       "      (0): Interpolate()\n",
       "      (1): ConvRelu(\n",
       "        (conv): Conv2d(192, 128, kernel_size=(3, 3), stride=(1, 1), padding=(1, 1))\n",
       "        (activation): ReLU(inplace=True)\n",
       "      )\n",
       "      (2): ConvRelu(\n",
       "        (conv): Conv2d(128, 32, kernel_size=(3, 3), stride=(1, 1), padding=(1, 1))\n",
       "        (activation): ReLU(inplace=True)\n",
       "      )\n",
       "    )\n",
       "  )\n",
       "  (dec1): ConvRelu(\n",
       "    (conv): Conv2d(96, 32, kernel_size=(3, 3), stride=(1, 1), padding=(1, 1))\n",
       "    (activation): ReLU(inplace=True)\n",
       "  )\n",
       "  (final): Conv2d(32, 1, kernel_size=(1, 1), stride=(1, 1))\n",
       ")"
      ]
     },
     "execution_count": 26,
     "metadata": {},
     "output_type": "execute_result"
    }
   ],
   "source": [
    "model.eval()"
   ]
  },
  {
   "cell_type": "code",
   "execution_count": 50,
   "metadata": {},
   "outputs": [
    {
     "name": "stdout",
     "output_type": "stream",
     "text": [
      "torch.Size([4, 3, 448, 448])\n",
      "tensor([[-2.4519, -3.6856, -4.0472,  ..., -4.2260, -3.5156, -2.3451],\n",
      "        [-3.6934, -5.3575, -5.8961,  ..., -5.6299, -5.2005, -3.3800],\n",
      "        [-4.2193, -5.9509, -6.4521,  ..., -6.0564, -5.3836, -3.7280],\n",
      "        ...,\n",
      "        [-4.4144, -6.3091, -6.8834,  ..., -8.5258, -7.6760, -4.9599],\n",
      "        [-4.2937, -6.1815, -7.0508,  ..., -7.6960, -6.9337, -4.3815],\n",
      "        [-3.0752, -4.5021, -5.1519,  ..., -5.0219, -4.5308, -3.0201]],\n",
      "       device='cuda:0', grad_fn=<SelectBackward0>)\n"
     ]
    }
   ],
   "source": [
    "import matplotlib.pyplot as plt\n",
    "for i, (input, target) in enumerate(train_loader):\n",
    "    if i == 1:\n",
    "        break\n",
    "    input_var  = Variable(input).cuda()\n",
    "    pred = model(input_var)\n",
    "    y = target[0,0].numpy()\n",
    "    y_true = F.sigmoid(target[0, 0]).numpy()\n",
    "    mask = F.sigmoid(pred[3, 0]).data.cpu().numpy()\n",
    "    print(input.shape)\n",
    "    print(pred[3,0])\n",
    "    # print(mask.shape)\n",
    "    # plt.imshow(mask, cmap='gray')\n",
    "    "
   ]
  },
  {
   "cell_type": "code",
   "execution_count": 19,
   "metadata": {},
   "outputs": [
    {
     "ename": "TypeError",
     "evalue": "'DataLoader' object is not subscriptable",
     "output_type": "error",
     "traceback": [
      "\u001b[0;31m---------------------------------------------------------------------------\u001b[0m",
      "\u001b[0;31mTypeError\u001b[0m                                 Traceback (most recent call last)",
      "Cell \u001b[0;32mIn[19], line 1\u001b[0m\n\u001b[0;32m----> 1\u001b[0m \u001b[39minput\u001b[39m, target \u001b[39m=\u001b[39m train_loader[\u001b[39m0\u001b[39;49m]\n\u001b[1;32m      2\u001b[0m \u001b[39minput\u001b[39m\n",
      "\u001b[0;31mTypeError\u001b[0m: 'DataLoader' object is not subscriptable"
     ]
    }
   ],
   "source": [
    "input, target = train_loader[0]\n",
    "input"
   ]
  },
  {
   "cell_type": "code",
   "execution_count": 7,
   "metadata": {},
   "outputs": [
    {
     "name": "stdout",
     "output_type": "stream",
     "text": [
      "0\n"
     ]
    }
   ],
   "source": [
    "import numpy as np\n",
    "a = np.random.randint(0, 100, (10, 10))\n",
    "b = np.random.randint(0, 100, (10, 10))\n",
    "    \n",
    "print(np.sum(a == b))"
   ]
  },
  {
   "cell_type": "code",
   "execution_count": 8,
   "metadata": {},
   "outputs": [
    {
     "data": {
      "text/plain": [
       "array([[False, False, False, False, False, False, False, False, False,\n",
       "        False],\n",
       "       [False, False, False, False, False, False, False, False, False,\n",
       "        False],\n",
       "       [False, False, False, False, False, False, False, False, False,\n",
       "        False],\n",
       "       [False, False, False, False, False, False, False, False, False,\n",
       "        False],\n",
       "       [False, False, False, False, False, False, False, False, False,\n",
       "        False],\n",
       "       [False, False, False, False, False, False, False, False, False,\n",
       "        False],\n",
       "       [False, False, False, False, False, False, False, False, False,\n",
       "        False],\n",
       "       [False, False, False, False, False, False, False, False, False,\n",
       "        False],\n",
       "       [False, False, False, False, False, False, False, False, False,\n",
       "        False],\n",
       "       [False, False, False, False, False, False, False, False, False,\n",
       "        False]])"
      ]
     },
     "execution_count": 8,
     "metadata": {},
     "output_type": "execute_result"
    }
   ],
   "source": [
    "a == b"
   ]
  },
  {
   "cell_type": "code",
   "execution_count": 10,
   "metadata": {},
   "outputs": [
    {
     "data": {
      "text/plain": [
       "0.22588832487309646"
      ]
     },
     "execution_count": 10,
     "metadata": {},
     "output_type": "execute_result"
    }
   ],
   "source": [
    "a = 89\n",
    "b = 394\n",
    "a/b"
   ]
  },
  {
   "cell_type": "code",
   "execution_count": 11,
   "metadata": {},
   "outputs": [
    {
     "name": "stdout",
     "output_type": "stream",
     "text": [
      "total images = 26347\n",
      "create vgg16 model\n",
      "Started training model from epoch 0\n",
      "Epoch 0: 100%|████████████| 22396/22396 [2:47:53<00:00,  2.31it/s, loss=0.06408]\tvalid_loss = 0.04562\n",
      "Epoch 0: 100%|████████████| 22396/22396 [2:57:45<00:00,  2.10it/s, loss=0.06408]\n",
      "Epoch 1: 100%|████████████| 22396/22396 [1:44:13<00:00,  5.14it/s, loss=0.04047]\tvalid_loss = 0.03534\n",
      "Epoch 1: 100%|████████████| 22396/22396 [1:49:16<00:00,  3.42it/s, loss=0.04047]\n",
      "Epoch 2: 100%|████████████| 22396/22396 [1:16:44<00:00,  5.17it/s, loss=0.03541]\tvalid_loss = 0.03272\n",
      "Epoch 2: 100%|████████████| 22396/22396 [1:21:47<00:00,  4.56it/s, loss=0.03541]\n",
      "Epoch 3: 100%|████████████| 22396/22396 [1:16:41<00:00,  5.16it/s, loss=0.03337]\tvalid_loss = 0.03100\n",
      "Epoch 3: 100%|████████████| 22396/22396 [1:21:43<00:00,  4.57it/s, loss=0.03337]\n",
      "Epoch 4: 100%|████████████| 22396/22396 [1:16:40<00:00,  5.16it/s, loss=0.03142]\tvalid_loss = 0.02941\n",
      "Epoch 4: 100%|████████████| 22396/22396 [1:21:42<00:00,  4.57it/s, loss=0.03142]\n",
      "Epoch 5: 100%|████████████| 22396/22396 [1:16:31<00:00,  5.18it/s, loss=0.02996]\tvalid_loss = 0.02839\n",
      "Epoch 5: 100%|████████████| 22396/22396 [1:21:33<00:00,  4.58it/s, loss=0.02996]\n",
      "Epoch 6: 100%|████████████| 22396/22396 [1:16:27<00:00,  5.18it/s, loss=0.02897]\tvalid_loss = 0.02771\n",
      "Epoch 6: 100%|████████████| 22396/22396 [1:21:29<00:00,  4.58it/s, loss=0.02897]\n",
      "Epoch 7: 100%|████████████| 22396/22396 [1:16:25<00:00,  5.16it/s, loss=0.02821]\tvalid_loss = 0.02720\n",
      "Epoch 7: 100%|████████████| 22396/22396 [1:21:26<00:00,  4.58it/s, loss=0.02821]\n",
      "Epoch 8:  68%|█████████▍    | 15184/22396 [51:48<24:33,  4.90it/s, loss=0.02773]"
     ]
    }
   ],
   "source": [
    "!python /home/wj/local/crack_segmentation/unet/train.py --n_epoch 30 --model_dir /home/wj/local/crack_segmentation/unet/checkpoints --model_type vgg16\n",
    "!python /home/wj/local/crack_segmentation/unet/train.py --n_epoch 30 --model_dir /home/wj/local/crack_segmentation/unet/checkpoints --model_type resnet34\n",
    "!python /home/wj/local/crack_segmentation/unet/train.py --n_epoch 30 --model_dir /home/wj/local/crack_segmentation/unet/checkpoints --model_type resnet101"
   ]
  }
 ],
 "metadata": {
  "kernelspec": {
   "display_name": "pytorch",
   "language": "python",
   "name": "python3"
  },
  "language_info": {
   "codemirror_mode": {
    "name": "ipython",
    "version": 3
   },
   "file_extension": ".py",
   "mimetype": "text/x-python",
   "name": "python",
   "nbconvert_exporter": "python",
   "pygments_lexer": "ipython3",
   "version": "3.8.16"
  },
  "orig_nbformat": 4
 },
 "nbformat": 4,
 "nbformat_minor": 2
}
